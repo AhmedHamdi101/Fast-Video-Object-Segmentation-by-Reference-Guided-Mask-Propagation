{
  "nbformat": 4,
  "nbformat_minor": 0,
  "metadata": {
    "colab": {
      "name": "Davis_Implementation.ipynb",
      "provenance": [],
      "collapsed_sections": [],
      "authorship_tag": "ABX9TyPP1miWp5fFC+kdPhmpjclc",
      "include_colab_link": true
    },
    "kernelspec": {
      "name": "python3",
      "display_name": "Python 3"
    },
    "language_info": {
      "name": "python"
    }
  },
  "cells": [
    {
      "cell_type": "markdown",
      "metadata": {
        "id": "view-in-github",
        "colab_type": "text"
      },
      "source": [
        "<a href=\"https://colab.research.google.com/github/AhmedHamdi101/Fast-Video-Object-Segmentation-by-Reference-Guided-Mask-Propagation/blob/main/Davis_Implementation.ipynb\" target=\"_parent\"><img src=\"https://colab.research.google.com/assets/colab-badge.svg\" alt=\"Open In Colab\"/></a>"
      ]
    },
    {
      "cell_type": "code",
      "metadata": {
        "id": "fzN4FQ9FSW7J"
      },
      "source": [
        "import tensorflow as tf \n",
        "from PIL import Image\n",
        "import numpy as np\n",
        "from tensorflow.keras.layers import Conv2D, Concatenate , Add, ReLU, UpSampling2D, ZeroPadding2D,Softmax\n",
        "from tensorflow.keras import Input , Model \n",
        "from tensorflow.keras.utils import plot_model"
      ],
      "execution_count": null,
      "outputs": []
    },
    {
      "cell_type": "code",
      "metadata": {
        "id": "tNObQkuC-KJd"
      },
      "source": [
        "input_shape = (480,854,4)\n",
        "# Target Stream  = Q\n",
        "inputlayer_Q = Input(shape=input_shape, name=\"inputlayer_Q\")\n",
        "# Refrence Stream = M\n",
        "inputlayer_M = Input(shape=input_shape,name=\"inputlayer_M\")\n",
        "\n",
        "convlayer_Q = Conv2D(filters= 3,kernel_size = (3,3),padding = 'same')(inputlayer_Q)\n",
        "convlayer_M = Conv2D(filters= 3,kernel_size = (3,3),padding = 'same')(inputlayer_M)\n",
        "\n",
        "out = main_model([convlayer_Q,convlayer_M])\n",
        "\n",
        "new_model = tf.keras.Model(inputs=[inputlayer_Q, inputlayer_M],outputs=out, name =\"new_model\" )\n"
      ],
      "execution_count": null,
      "outputs": []
    },
    {
      "cell_type": "code",
      "metadata": {
        "id": "5LQFvOq898t6"
      },
      "source": [
        "input_shape = (480,854,4)\n",
        "\n",
        "\n",
        "# Target Stream  = Q\n",
        "inputlayer_Q = Input(shape=input_shape, name=\"inputlayer_Q\")\n",
        "# Refrence Stream = M\n",
        "inputlayer_M = Input(shape=input_shape,name=\"inputlayer_M\")\n",
        "\n",
        "\n",
        "convlayer_Q = Conv2D(filters= 3,kernel_size = (3,3),padding = 'same')(inputlayer_Q)\n",
        "convlayer_M = Conv2D(filters= 3,kernel_size = (3,3),padding = 'same')(inputlayer_M)\n",
        "\n",
        "model_Q = tf.keras.applications.resnet50.ResNet50(\n",
        "    input_shape=(convlayer_Q.shape[1],convlayer_Q.shape[2],convlayer_Q.shape[3]), include_top=False, weights='imagenet' \n",
        ")\n",
        "model_Q._name =\"resnet50_Q\"\n",
        "\n",
        "model_M = tf.keras.applications.resnet50.ResNet50(\n",
        "    input_shape=(convlayer_M.shape[1],convlayer_M.shape[2],convlayer_M.shape[3]), include_top=False, weights='imagenet' \n",
        ")\n",
        "model_M._name =\"resnet50_M\"\n",
        "\n",
        "for model in [model_Q, model_M]:\n",
        "  for layer in model.layers:\n",
        "    old_name = layer.name\n",
        "    layer._name = f\"{model.name}_{old_name}\"\n",
        "    \n",
        "\n",
        "encoder_Q = tf.keras.Model(inputs=model_Q.inputs, outputs=model_Q.output,name =\"encoder_Q\" )\n",
        "encoder_M = tf.keras.Model(inputs=model_M.inputs, outputs=model_M.output,name =\"encoder_M\" )\n",
        "\n",
        "\n",
        "concatenate = Concatenate(axis=0,name =\"Concatenate\")([encoder_Q.output, encoder_M.output])\n",
        "global_layer = GlobalConvBlock(concatenate)\n",
        "\n",
        "res2_skip = encoder_Q.layers[38].output\n",
        "res2_skip = ZeroPadding2D(padding=(0,1), data_format=None)(res2_skip)\n",
        "res3_skip = encoder_Q.layers[80].output\n",
        "res3_skip = ZeroPadding2D(padding=((0,0),(0,1)), data_format=None)(res3_skip)\n",
        "res4_skip = encoder_Q.layers[142].output\n",
        "\n",
        "\n",
        "ref1_16 = refineblock(res4_skip,global_layer,\"ref1_16\")\n",
        "ref1_8 = refineblock(res3_skip,ref1_16,\"ref1_8\")\n",
        "ref1_4 = refineblock(res2_skip,ref1_8,\"ref1_4\")\n",
        "outconv = Conv2D(filters= 2,kernel_size = (3,3)) (ref1_4)\n",
        "outconv1 = ZeroPadding2D(padding=((1,1),(0,0)), data_format=None)(outconv)\n",
        "output = Softmax()(outconv1)\n",
        "\n",
        "main_model = tf.keras.Model(inputs=[encoder_Q.inputs, encoder_M.inputs],outputs=output, name =\"main_model\" )\n",
        "\n",
        "\n",
        "main_model.summary()\n"
      ],
      "execution_count": null,
      "outputs": []
    },
    {
      "cell_type": "code",
      "metadata": {
        "id": "yiqfgeJBSky2"
      },
      "source": [
        "def refineblock(skip_connection,input , refineName):\n",
        "  conv3x3 = Conv2D(filters= 256,kernel_size = (3,3),padding = 'same' , name = refineName + \"conv3x3\" )(skip_connection)\n",
        "  res_block =  resblock(conv3x3, (3,3), 256 , refineName+\"_1\")\n",
        "  upsample = UpSampling2D( name = refineName + \"upSample\")(input)\n",
        "  out = Add( name = refineName+\"refAdd\")([upsample,res_block])\n",
        "  return resblock(out, (3,3), 256, refineName+\"_2\")\n",
        "  # return upsample"
      ],
      "execution_count": null,
      "outputs": []
    },
    {
      "cell_type": "code",
      "metadata": {
        "id": "cV-9vvcASmzF"
      },
      "source": [
        "def resblock(x, kernelsize, filters , resblockname):\n",
        "    fx = Conv2D(filters, kernelsize, activation='relu', padding='same', name = resblockname+\"Conv2Dfx\")(x)\n",
        "    fx = Conv2D(filters, kernelsize, padding='same',name = resblockname+\"Conv2Dfx2\")(fx)\n",
        "    out = Add( name = resblockname+\"resAdd\")([x,fx])\n",
        "    out = ReLU( name = resblockname+\"resRelu\")(out)\n",
        "    return out\n",
        "\n",
        "def GlobalConvBlock(input):\n",
        "\n",
        "  conv1x7_up = Conv2D(filters= 256,kernel_size = (1,7), padding='same' , name = \"conv1x7_up\")(input)\n",
        "  conv7x1_up = Conv2D(filters= 256,kernel_size = (7,1), padding='same', name = \"conv7x1_up\")(conv1x7_up)\n",
        "\n",
        "  conv7x1_down = Conv2D(filters= 256,kernel_size = (7,1), padding='same',name = \"conv7x1_down\" )(input)\n",
        "  conv1x7_down = Conv2D(filters= 256,kernel_size = (1,7), padding='same',name = \"conv1x7_down\")(conv7x1_down)\n",
        "\n",
        "  summation_layer = Add(name = \"Add\")([conv7x1_up, conv1x7_down])\n",
        "  return resblock(summation_layer,(3,3),256 , \"global\")  "
      ],
      "execution_count": null,
      "outputs": []
    }
  ]
}
