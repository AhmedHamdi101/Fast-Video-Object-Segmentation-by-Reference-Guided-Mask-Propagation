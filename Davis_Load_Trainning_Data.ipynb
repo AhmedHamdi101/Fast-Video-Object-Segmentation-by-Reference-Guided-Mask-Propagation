{
  "nbformat": 4,
  "nbformat_minor": 0,
  "metadata": {
    "colab": {
      "name": "Davis-Load-Trainning-Data.ipynb",
      "provenance": [],
      "authorship_tag": "ABX9TyNLyTWM7Q5V8wWoFGWMmz6Q",
      "include_colab_link": true
    },
    "kernelspec": {
      "name": "python3",
      "display_name": "Python 3"
    },
    "language_info": {
      "name": "python"
    }
  },
  "cells": [
    {
      "cell_type": "markdown",
      "metadata": {
        "id": "view-in-github",
        "colab_type": "text"
      },
      "source": [
        "<a href=\"https://colab.research.google.com/github/AhmedHamdi101/Fast-Video-Object-Segmentation-by-Reference-Guided-Mask-Propagation/blob/main/Davis_Load_Trainning_Data.ipynb\" target=\"_parent\"><img src=\"https://colab.research.google.com/assets/colab-badge.svg\" alt=\"Open In Colab\"/></a>"
      ]
    },
    {
      "cell_type": "code",
      "metadata": {
        "id": "FbvEJDkAvYGR"
      },
      "source": [
        "from PIL import Image\n",
        "from google.colab import drive\n",
        "from os import listdir\n",
        "import matplotlib.pyplot as plt\n",
        "import pandas as pd\n",
        "\n",
        "image_dir = 'gdrive/MyDrive/Voc pretrain data/Images'\n",
        "masks_dir =  'gdrive/MyDrive/Voc pretrain data/Masks'\n"
      ],
      "execution_count": null,
      "outputs": []
    },
    {
      "cell_type": "code",
      "metadata": {
        "id": "Gpq59C1RH91G",
        "colab": {
          "base_uri": "https://localhost:8080/"
        },
        "outputId": "37cb1e4b-fcb9-484f-a967-2ab1b0ad45c6"
      },
      "source": [
        "drive.mount('/content/gdrive')"
      ],
      "execution_count": null,
      "outputs": [
        {
          "output_type": "stream",
          "text": [
            "Mounted at /content/gdrive\n"
          ],
          "name": "stdout"
        }
      ]
    },
    {
      "cell_type": "code",
      "metadata": {
        "id": "zUP9aVvUIBz0"
      },
      "source": [
        "loaded_images = []\n",
        "loaded_images_names = []\n",
        "i = 0\n",
        "for filename in listdir(image_dir):\n",
        "  \n",
        "  loaded_images.append(Image.open(image_dir +'/'+ filename))\n",
        "  loaded_images_names.append(filename[:-4])\n",
        "  i += 1\n",
        "  if i % 100 == 0:\n",
        "    print(i)\n",
        "    # break"
      ],
      "execution_count": null,
      "outputs": []
    },
    {
      "cell_type": "code",
      "metadata": {
        "id": "AljH2FgCbx7L"
      },
      "source": [
        "loaded_masks = []\n",
        "loaded_masks_names = []\n",
        "i = 0\n",
        "for filename in listdir(masks_dir):\n",
        "  \n",
        "  loaded_masks.append(Image.open(masks_dir +'/'+ filename))\n",
        "  loaded_masks_names.append(filename[:-4])\n",
        "  i += 1\n",
        "  # print(i)\n",
        "  if i % 100 == 0:\n",
        "    print(i)\n",
        "    # break"
      ],
      "execution_count": null,
      "outputs": []
    },
    {
      "cell_type": "code",
      "metadata": {
        "id": "v6r_l_BxOmuu"
      },
      "source": [
        "data_temp_images = {'Images':loaded_images,\n",
        "          'Names':loaded_images_names}\n",
        "data_temp_masks = {'Images':loaded_masks,\n",
        "          'Names':loaded_masks_names}\n",
        "\n",
        "dataframe_images = pd.DataFrame(data_temp_images)\n",
        "dataframe_masks = pd.DataFrame(data_temp_masks)\n"
      ],
      "execution_count": null,
      "outputs": []
    },
    {
      "cell_type": "code",
      "metadata": {
        "id": "y4P1_IvGc4UB"
      },
      "source": [
        "dataframe_images = dataframe_images.sort_values(['Names'],ascending=True) \n",
        "dataframe_masks_sorted = dataframe_masks.sort_values(['Names'],ascending=True)"
      ],
      "execution_count": null,
      "outputs": []
    }
  ]
}