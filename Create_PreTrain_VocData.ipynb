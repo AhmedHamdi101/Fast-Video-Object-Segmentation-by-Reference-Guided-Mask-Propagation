{
  "nbformat": 4,
  "nbformat_minor": 0,
  "metadata": {
    "colab": {
      "name": "Create-PreTrain-VocData.ipynb",
      "provenance": [],
      "collapsed_sections": [],
      "authorship_tag": "ABX9TyOYLUiq/SQHeh5bNf4E/0AF",
      "include_colab_link": true
    },
    "kernelspec": {
      "name": "python3",
      "display_name": "Python 3"
    },
    "language_info": {
      "name": "python"
    }
  },
  "cells": [
    {
      "cell_type": "markdown",
      "metadata": {
        "id": "view-in-github",
        "colab_type": "text"
      },
      "source": [
        "<a href=\"https://colab.research.google.com/github/AhmedHamdi101/Fast-Video-Object-Segmentation-by-Reference-Guided-Mask-Propagation/blob/main/Create_PreTrain_VocData.ipynb\" target=\"_parent\"><img src=\"https://colab.research.google.com/assets/colab-badge.svg\" alt=\"Open In Colab\"/></a>"
      ]
    },
    {
      "cell_type": "code",
      "metadata": {
        "id": "cPN6k9KQcy0J"
      },
      "source": [
        "from google.colab import drive\n",
        "from PIL import Image, ImageOps\n",
        "import numpy as np\n",
        "import cv2"
      ],
      "execution_count": 2,
      "outputs": []
    },
    {
      "cell_type": "code",
      "metadata": {
        "id": "Ja-HxdlFdF8Q",
        "colab": {
          "base_uri": "https://localhost:8080/"
        },
        "outputId": "bfdf2179-5ab7-4670-c40e-2bf45dab36a4"
      },
      "source": [
        "drive.mount('/content/gdrive')"
      ],
      "execution_count": 3,
      "outputs": [
        {
          "output_type": "stream",
          "name": "stdout",
          "text": [
            "Mounted at /content/gdrive\n"
          ]
        }
      ]
    },
    {
      "cell_type": "markdown",
      "metadata": {
        "id": "Wi_uoXKN0amI"
      },
      "source": [
        "Mirror Images Data\n"
      ]
    },
    {
      "cell_type": "code",
      "metadata": {
        "id": "_wf7ZesEegaN"
      },
      "source": [
        "for filename in glob.glob('images/*.jpg'):\n",
        "  im = Image.open(filename)\n",
        "  im = ImageOps.mirror(im)\n",
        "  im.save('target-image' + filename)"
      ],
      "execution_count": null,
      "outputs": []
    },
    {
      "cell_type": "markdown",
      "metadata": {
        "id": "2LX_ebp81If-"
      },
      "source": [
        "Mirror mask and modify it"
      ]
    },
    {
      "cell_type": "code",
      "metadata": {
        "id": "0s_uHOul1IGD"
      },
      "source": [
        "for filename in glob.glob('mask/*.png'):\n",
        "  im = Image.open(filename)\n",
        "  im_palette = im.getpalette()\n",
        "  im = ImageOps.mirror(im)\n",
        "\n",
        "  array = np.asarray(im)\n",
        "  rows, cols = array.shape\n",
        "  new_array = cv2.warpPerspective(array, M, (int(cols * 1.5), int(rows * 1.5)))\n",
        "\n",
        "  m = Image.fromarray(new_array)\n",
        "\n",
        "  m.putpalette(im_palette)\n",
        "  m = m.crop((0, 0, im.size[0], im.size[1]))\n",
        "\n",
        "  m.save('target-mask' + filename)"
      ],
      "execution_count": null,
      "outputs": []
    }
  ]
}